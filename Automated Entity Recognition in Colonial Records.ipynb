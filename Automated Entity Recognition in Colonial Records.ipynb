{
 "cells": [
  {
   "cell_type": "markdown",
   "id": "8aeccf27",
   "metadata": {},
   "source": [
    "# Automated Entity Recognition in Colonial Records\n",
    "\n",
    "In this notebook, we will do the following steps:\n",
    "1. Read the data into memory and prepare it for processing\n",
    "2. Setup and apply an automated entity recognition pipeline\n",
    "3. Assess its results\n",
    "\n",
    "Please *refer to the case study for all relevant context and a broader discussion*. Ideally, the case study should be read before using this notebook.\n",
    "\n",
    "**Jupyter Notebooks are Web applications that can execute code and display its results**. They are sometimes called computational documents for this reason. If you want to use this notebook interactively, you will have to download the repository and configure your local Python environment. Otherwise, you can read simply here the code and results."
   ]
  },
  {
   "cell_type": "markdown",
   "id": "d6a1dc9a",
   "metadata": {},
   "source": [
    "## Read and prepare the data"
   ]
  },
  {
   "cell_type": "code",
   "execution_count": 1,
   "id": "4dcd4b7b",
   "metadata": {},
   "outputs": [],
   "source": [
    "# basic imports and variables\n",
    "import os # for manipulating files\n",
    "\n",
    "data_folder = \"data/\"\n",
    "file_1 = \"BL_IOR_E_4_24.txt\" # Letters received from the factory in Bengal, Jun 1758 - Mar 1760\n",
    "file_2 = \"BL_IOR_B_53.txt\" # Court Minutes, 8 Apr 1714 - 5 Apr 1716"
   ]
  },
  {
   "cell_type": "code",
   "execution_count": 2,
   "id": "28f5373a",
   "metadata": {},
   "outputs": [],
   "source": [
    "# read raw data into memory\n",
    "work_with = file_1 # or use file_2 if you prefer\n",
    "\n",
    "f = open(os.path.join(data_folder,work_with)).read() # f is a string"
   ]
  },
  {
   "cell_type": "code",
   "execution_count": 3,
   "id": "2ee7f114",
   "metadata": {},
   "outputs": [
    {
     "data": {
      "text/plain": [
       "['BL_IOR_E_4_24_0001',\n",
       " 'rene',\n",
       " 'E16126',\n",
       " '',\n",
       " '',\n",
       " 'BL_IOR_E_4_24_0002',\n",
       " '104.2 14 saut',\n",
       " '',\n",
       " '',\n",
       " 'BL_IOR_E_4_24_0003',\n",
       " 'News cour',\n",
       " '-',\n",
       " 'Witle little and are de',\n",
       " 'Directors her Affairs of the 26. Lag',\n",
       " 'Houble United Compani',\n",
       " 'of Merchants of England 2 Mr. 1. 700',\n",
       " 'Sherin',\n",
       " 'trading to the East Indies.',\n",
       " 'May it please your Honours. 2',\n",
       " 'We take this Opportunity of Writing']"
      ]
     },
     "execution_count": 3,
     "metadata": {},
     "output_type": "execute_result"
    }
   ],
   "source": [
    "lines = f.splitlines() # we split the text into lines and print out the first few\n",
    "lines[:20]"
   ]
  },
  {
   "cell_type": "markdown",
   "id": "37074c0d",
   "metadata": {},
   "source": [
    "We now have a list of strings containing the whole document, line by line. \n",
    "At a closer look, we note that every page is separated by the file identifier and an incremental number. We would like to use this information to create a list of pages, and remove all empty lines."
   ]
  },
  {
   "cell_type": "code",
   "execution_count": 4,
   "id": "67db9644",
   "metadata": {},
   "outputs": [],
   "source": [
    "file_identifier = work_with.replace(\".txt\",\"\")\n",
    "pages = list()\n",
    "new_page = \"\"\n",
    "\n",
    "for n,line in enumerate(lines[1:]): # note how we start from the second line to include the first page\n",
    "    if line.startswith(file_identifier):\n",
    "        # append previous page to the list of pages\n",
    "        pages.append(new_page.strip())\n",
    "        # create a new empty page\n",
    "        new_page = \"\"\n",
    "    elif len(line) == 0 or line.startswith(\"No transcript for this item\"): \n",
    "        # skip empty lines or pages\n",
    "        continue\n",
    "    else:\n",
    "        # append the line to the current page\n",
    "        new_page += \" \"+line"
   ]
  },
  {
   "cell_type": "code",
   "execution_count": 5,
   "id": "592ac70a",
   "metadata": {},
   "outputs": [
    {
     "data": {
      "text/plain": [
       "466"
      ]
     },
     "execution_count": 5,
     "metadata": {},
     "output_type": "execute_result"
    }
   ],
   "source": [
    "# check that the number of pages corresponds\n",
    "len(pages)"
   ]
  },
  {
   "cell_type": "code",
   "execution_count": 6,
   "id": "eaad2ce7",
   "metadata": {},
   "outputs": [
    {
     "data": {
      "text/plain": [
       "\"21 To the Slouble the Court of same Directors for Affairs of the preading letter Houble United Company of Merchants of England trading to the last Indies May it please your Honors The opportunity of a tutor Ship bound directly for Europe offering Wehard embraced it to transmit you a Triplicale of the Letter Weroti under date the 26 August And to inform your House of such other Circumstances as We estance material and necessary for you to be cart acquainted with The Pitt Captain Willion 2 arrived the 12. September at Fort St George The left the Ships destined for China with his Majesty's Ships Grafton and Sunderta off the Madeiras, and steered for the Island of St Jago, but finding three large Bunch Ships at Anchor in the Harbor, Captan Willion made the best of his Way to same Augustine’s Bay in the Pfland of Madan -car - When the Pitt left that Bay, The met the London and Warren going in. We have therefore great reason to hope that all the above Ships imported safely at Madrass in October By a Letter from Mr. Johnstone to the\""
      ]
     },
     "execution_count": 6,
     "metadata": {},
     "output_type": "execute_result"
    }
   ],
   "source": [
    "# example of a single page\n",
    "pages[22]"
   ]
  },
  {
   "cell_type": "markdown",
   "id": "526d892a",
   "metadata": {},
   "source": [
    "We have now turned our raw dataset into a list of pages, each containing its automatically recognised text. \n",
    "\n",
    "You may want to take a moment to inspect several pages and compare them with the original images. You will notice that, despite a good overall quality, automated text recognition is never perfect: these will also have an impact when doing entity recognition and we should not expect perfect results for it either.\n",
    "\n",
    "We now turn or attention to the entity recognition pipeline."
   ]
  },
  {
   "cell_type": "markdown",
   "id": "50c652b7",
   "metadata": {},
   "source": [
    "---"
   ]
  },
  {
   "cell_type": "markdown",
   "id": "ea859093",
   "metadata": {},
   "source": [
    "## Automated Entity Recognition\n",
    "\n",
    "Automated Entity Recognition, often also called *Named Entity Recognition* or just *Entity Recognition*, is a popular step in **Natural Language Processing (NLP) pipelines**. Its goal is to find mentions of entities of interest, and their type. The most popular entity types are person, place and organisation. An NLP pipeline is usually comprised of several sequential steps, as illustrated here:  \n",
    "\n",
    "<img src=\"resources/spacy_ner_pipeline.png\" alt=\"spacy ner pipeline\" />\n",
    "\n",
    "From an input text, for example in page of our documents, an NLP pipeline has to deal with tokenisation (splitting a text into constituent parts, for example words), lemmatising (transforming a word into its base lemma), tagging (detecting the part of speech of a word), parsing (detecting the syntactic structure of a sentence), and more. Entity recognition therefore is but one possible step part of an NLP pipeline.\n",
    "\n",
    "In what follows, we will rely on the spaCy library, a popular natural language toolkit in Python. For more details of the model we will use, see https://spacy.io/models/en. Firstly, we will load the library and trained model, we will then see an example and apply a basic AER pipeline to our documents."
   ]
  },
  {
   "cell_type": "code",
   "execution_count": 7,
   "id": "27dcf2b4",
   "metadata": {},
   "outputs": [],
   "source": [
    "# uncomment and execute this line only once. en_core_web_sm is a small model trained for English\n",
    "\n",
    "#!python -m spacy download en_core_web_sm "
   ]
  },
  {
   "cell_type": "code",
   "execution_count": 8,
   "id": "550fe4a0",
   "metadata": {
    "scrolled": false
   },
   "outputs": [
    {
     "name": "stdout",
     "output_type": "stream",
     "text": [
      "[('The New York Times', 'ORG'), ('New York', 'GPE')]\n",
      "[('Mars', 'LOC'), ('2035', 'DATE')]\n"
     ]
    }
   ],
   "source": [
    "# an example spacy pipeline, this might take a while to execute\n",
    "import spacy\n",
    "\n",
    "texts = [\n",
    "    \"The New York Times is a newspaper based in New York.\",\n",
    "    \"We will be able to go to Mars by 2035. Will you go?\",\n",
    "]\n",
    "\n",
    "nlp = spacy.load(\"en_core_web_sm\") # we load the pretrained model\n",
    "# we configure the pipeline by removing steps we do not need\n",
    "for doc in nlp.pipe(texts, disable=[\"tok2vec\", \"tagger\", \"parser\", \"attribute_ruler\", \"lemmatizer\"], n_process=-1): \n",
    "    # we print out all detected entities: the results are not bad\n",
    "    print([(ent.text, ent.label_) for ent in doc.ents])"
   ]
  },
  {
   "cell_type": "code",
   "execution_count": 9,
   "id": "b03c8941",
   "metadata": {},
   "outputs": [],
   "source": [
    "# let us apply the same pipeline on our data, this might take a while to execute\n",
    "\n",
    "entities = list()\n",
    "for doc in nlp.pipe(pages, disable=[\"tok2vec\", \"tagger\", \"parser\", \"attribute_ruler\", \"lemmatizer\"], n_process=-1):\n",
    "    entities.extend([(ent.text, ent.label_) for ent in doc.ents])"
   ]
  },
  {
   "cell_type": "code",
   "execution_count": 10,
   "id": "86f98006",
   "metadata": {},
   "outputs": [
    {
     "data": {
      "text/plain": [
       "12933"
      ]
     },
     "execution_count": 10,
     "metadata": {},
     "output_type": "execute_result"
    }
   ],
   "source": [
    "len(entities) # we have found many entity mentions"
   ]
  },
  {
   "cell_type": "code",
   "execution_count": 11,
   "id": "80578dfc",
   "metadata": {},
   "outputs": [
    {
     "name": "stdout",
     "output_type": "stream",
     "text": [
      "[('104.2', 'CARDINAL'), ('26', 'CARDINAL'), ('Lag Houble United Compani', 'PERSON'), ('700', 'CARDINAL'), ('the East Indies', 'ORG'), ('Honours', 'ORG'), ('2', 'CARDINAL'), ('Dispatch for Europe', 'ORG'), ('Fort St George', 'GPE'), ('Setter', 'PERSON')]\n"
     ]
    }
   ],
   "source": [
    "print(entities[:10])"
   ]
  },
  {
   "cell_type": "code",
   "execution_count": 12,
   "id": "8ab8135c",
   "metadata": {},
   "outputs": [
    {
     "name": "stdout",
     "output_type": "stream",
     "text": [
      "Nationalities or religious or political groups\n",
      "Countries, cities, states\n"
     ]
    }
   ],
   "source": [
    "# you can use this command to get an explanation of entity types\n",
    "print(spacy.explain(\"NORP\"))\n",
    "print(spacy.explain(\"GPE\"))"
   ]
  },
  {
   "cell_type": "markdown",
   "id": "9116f5e2",
   "metadata": {},
   "source": [
    "Note that we use a trained model which works with a fixed set of types. An important question when dealing with AER is **which typology to use** (i.e., set of types). Often, historical records require bespoke typologies to capture their rich contents."
   ]
  },
  {
   "cell_type": "markdown",
   "id": "c7adf9cf",
   "metadata": {},
   "source": [
    "---"
   ]
  },
  {
   "cell_type": "markdown",
   "id": "cd2cc2e7",
   "metadata": {},
   "source": [
    "## Results\n",
    "\n",
    "Let us now take a look at the results we got. Firstly, we will create a *Pandas data frame* to more easily manipulate the data. Secondly, we will check which are the most frequent mentions. We will then look at entity occurrences in their original context. Lastly, we will create a visualisation to see the distribution of mentions by entity. We will conclude by discussing the limitations of these results, and how to proceed to evaluate their quality more rigorously."
   ]
  },
  {
   "cell_type": "code",
   "execution_count": 13,
   "id": "e208b831",
   "metadata": {},
   "outputs": [],
   "source": [
    "# create a data frame\n",
    "import pandas as pd\n",
    "\n",
    "df = pd.DataFrame(entities, columns=[\"mention\",\"type\"])"
   ]
  },
  {
   "cell_type": "code",
   "execution_count": 14,
   "id": "77cfd0e4",
   "metadata": {},
   "outputs": [
    {
     "data": {
      "text/html": [
       "<div>\n",
       "<style scoped>\n",
       "    .dataframe tbody tr th:only-of-type {\n",
       "        vertical-align: middle;\n",
       "    }\n",
       "\n",
       "    .dataframe tbody tr th {\n",
       "        vertical-align: top;\n",
       "    }\n",
       "\n",
       "    .dataframe thead th {\n",
       "        text-align: right;\n",
       "    }\n",
       "</style>\n",
       "<table border=\"1\" class=\"dataframe\">\n",
       "  <thead>\n",
       "    <tr style=\"text-align: right;\">\n",
       "      <th></th>\n",
       "      <th>mention</th>\n",
       "      <th>type</th>\n",
       "    </tr>\n",
       "  </thead>\n",
       "  <tbody>\n",
       "    <tr>\n",
       "      <th>0</th>\n",
       "      <td>104.2</td>\n",
       "      <td>CARDINAL</td>\n",
       "    </tr>\n",
       "    <tr>\n",
       "      <th>1</th>\n",
       "      <td>26</td>\n",
       "      <td>CARDINAL</td>\n",
       "    </tr>\n",
       "    <tr>\n",
       "      <th>2</th>\n",
       "      <td>Lag Houble United Compani</td>\n",
       "      <td>PERSON</td>\n",
       "    </tr>\n",
       "    <tr>\n",
       "      <th>3</th>\n",
       "      <td>700</td>\n",
       "      <td>CARDINAL</td>\n",
       "    </tr>\n",
       "    <tr>\n",
       "      <th>4</th>\n",
       "      <td>the East Indies</td>\n",
       "      <td>ORG</td>\n",
       "    </tr>\n",
       "  </tbody>\n",
       "</table>\n",
       "</div>"
      ],
      "text/plain": [
       "                     mention      type\n",
       "0                      104.2  CARDINAL\n",
       "1                         26  CARDINAL\n",
       "2  Lag Houble United Compani    PERSON\n",
       "3                        700  CARDINAL\n",
       "4            the East Indies       ORG"
      ]
     },
     "execution_count": 14,
     "metadata": {},
     "output_type": "execute_result"
    }
   ],
   "source": [
    "df.head()"
   ]
  },
  {
   "cell_type": "code",
   "execution_count": 15,
   "id": "0355c9f1",
   "metadata": {},
   "outputs": [
    {
     "data": {
      "text/plain": [
       "(12933, 2)"
      ]
     },
     "execution_count": 15,
     "metadata": {},
     "output_type": "execute_result"
    }
   ],
   "source": [
    "df.shape # a data frame is like a table, it has as many rows as entity mentions and two columns"
   ]
  },
  {
   "cell_type": "code",
   "execution_count": 16,
   "id": "acd98256",
   "metadata": {},
   "outputs": [],
   "source": [
    "# let us count how many times each mention occurs\n",
    "df_sorted = df.groupby([\"mention\",\"type\"]).size().reset_index(name='counts').sort_values('counts', ascending=False)"
   ]
  },
  {
   "cell_type": "code",
   "execution_count": 17,
   "id": "f5fad3fc",
   "metadata": {},
   "outputs": [
    {
     "data": {
      "text/html": [
       "<div>\n",
       "<style scoped>\n",
       "    .dataframe tbody tr th:only-of-type {\n",
       "        vertical-align: middle;\n",
       "    }\n",
       "\n",
       "    .dataframe tbody tr th {\n",
       "        vertical-align: top;\n",
       "    }\n",
       "\n",
       "    .dataframe thead th {\n",
       "        text-align: right;\n",
       "    }\n",
       "</style>\n",
       "<table border=\"1\" class=\"dataframe\">\n",
       "  <thead>\n",
       "    <tr style=\"text-align: right;\">\n",
       "      <th></th>\n",
       "      <th>mention</th>\n",
       "      <th>type</th>\n",
       "      <th>counts</th>\n",
       "    </tr>\n",
       "  </thead>\n",
       "  <tbody>\n",
       "    <tr>\n",
       "      <th>4578</th>\n",
       "      <td>One</td>\n",
       "      <td>CARDINAL</td>\n",
       "      <td>351</td>\n",
       "    </tr>\n",
       "    <tr>\n",
       "      <th>782</th>\n",
       "      <td>3</td>\n",
       "      <td>CARDINAL</td>\n",
       "      <td>239</td>\n",
       "    </tr>\n",
       "    <tr>\n",
       "      <th>544</th>\n",
       "      <td>2</td>\n",
       "      <td>CARDINAL</td>\n",
       "      <td>190</td>\n",
       "    </tr>\n",
       "    <tr>\n",
       "      <th>1042</th>\n",
       "      <td>6</td>\n",
       "      <td>CARDINAL</td>\n",
       "      <td>144</td>\n",
       "    </tr>\n",
       "    <tr>\n",
       "      <th>27</th>\n",
       "      <td>1</td>\n",
       "      <td>CARDINAL</td>\n",
       "      <td>135</td>\n",
       "    </tr>\n",
       "    <tr>\n",
       "      <th>7585</th>\n",
       "      <td>two</td>\n",
       "      <td>CARDINAL</td>\n",
       "      <td>84</td>\n",
       "    </tr>\n",
       "    <tr>\n",
       "      <th>5304</th>\n",
       "      <td>Rupee</td>\n",
       "      <td>ORG</td>\n",
       "      <td>74</td>\n",
       "    </tr>\n",
       "    <tr>\n",
       "      <th>1219</th>\n",
       "      <td>9</td>\n",
       "      <td>CARDINAL</td>\n",
       "      <td>72</td>\n",
       "    </tr>\n",
       "    <tr>\n",
       "      <th>6627</th>\n",
       "      <td>one</td>\n",
       "      <td>CARDINAL</td>\n",
       "      <td>65</td>\n",
       "    </tr>\n",
       "    <tr>\n",
       "      <th>60</th>\n",
       "      <td>10</td>\n",
       "      <td>CARDINAL</td>\n",
       "      <td>64</td>\n",
       "    </tr>\n",
       "  </tbody>\n",
       "</table>\n",
       "</div>"
      ],
      "text/plain": [
       "     mention      type  counts\n",
       "4578     One  CARDINAL     351\n",
       "782        3  CARDINAL     239\n",
       "544        2  CARDINAL     190\n",
       "1042       6  CARDINAL     144\n",
       "27         1  CARDINAL     135\n",
       "7585     two  CARDINAL      84\n",
       "5304   Rupee       ORG      74\n",
       "1219       9  CARDINAL      72\n",
       "6627     one  CARDINAL      65\n",
       "60        10  CARDINAL      64"
      ]
     },
     "execution_count": 17,
     "metadata": {},
     "output_type": "execute_result"
    }
   ],
   "source": [
    "df_sorted.head(10)"
   ]
  },
  {
   "cell_type": "code",
   "execution_count": 18,
   "id": "164b4e82",
   "metadata": {},
   "outputs": [
    {
     "data": {
      "text/html": [
       "<div>\n",
       "<style scoped>\n",
       "    .dataframe tbody tr th:only-of-type {\n",
       "        vertical-align: middle;\n",
       "    }\n",
       "\n",
       "    .dataframe tbody tr th {\n",
       "        vertical-align: top;\n",
       "    }\n",
       "\n",
       "    .dataframe thead th {\n",
       "        text-align: right;\n",
       "    }\n",
       "</style>\n",
       "<table border=\"1\" class=\"dataframe\">\n",
       "  <thead>\n",
       "    <tr style=\"text-align: right;\">\n",
       "      <th></th>\n",
       "      <th>mention</th>\n",
       "      <th>type</th>\n",
       "      <th>counts</th>\n",
       "    </tr>\n",
       "  </thead>\n",
       "  <tbody>\n",
       "    <tr>\n",
       "      <th>5304</th>\n",
       "      <td>Rupee</td>\n",
       "      <td>ORG</td>\n",
       "      <td>74</td>\n",
       "    </tr>\n",
       "    <tr>\n",
       "      <th>1712</th>\n",
       "      <td>Board</td>\n",
       "      <td>ORG</td>\n",
       "      <td>64</td>\n",
       "    </tr>\n",
       "    <tr>\n",
       "      <th>2766</th>\n",
       "      <td>Europe</td>\n",
       "      <td>LOC</td>\n",
       "      <td>63</td>\n",
       "    </tr>\n",
       "    <tr>\n",
       "      <th>2295</th>\n",
       "      <td>Company</td>\n",
       "      <td>ORG</td>\n",
       "      <td>50</td>\n",
       "    </tr>\n",
       "    <tr>\n",
       "      <th>2944</th>\n",
       "      <td>French</td>\n",
       "      <td>NORP</td>\n",
       "      <td>44</td>\n",
       "    </tr>\n",
       "    <tr>\n",
       "      <th>2643</th>\n",
       "      <td>Dutch</td>\n",
       "      <td>NORP</td>\n",
       "      <td>42</td>\n",
       "    </tr>\n",
       "    <tr>\n",
       "      <th>4430</th>\n",
       "      <td>Nabob</td>\n",
       "      <td>PERSON</td>\n",
       "      <td>40</td>\n",
       "    </tr>\n",
       "    <tr>\n",
       "      <th>5559</th>\n",
       "      <td>Ships</td>\n",
       "      <td>ORG</td>\n",
       "      <td>31</td>\n",
       "    </tr>\n",
       "    <tr>\n",
       "      <th>6492</th>\n",
       "      <td>first</td>\n",
       "      <td>ORDINAL</td>\n",
       "      <td>30</td>\n",
       "    </tr>\n",
       "    <tr>\n",
       "      <th>5308</th>\n",
       "      <td>Rupee One Sell</td>\n",
       "      <td>ORG</td>\n",
       "      <td>26</td>\n",
       "    </tr>\n",
       "  </tbody>\n",
       "</table>\n",
       "</div>"
      ],
      "text/plain": [
       "             mention     type  counts\n",
       "5304           Rupee      ORG      74\n",
       "1712           Board      ORG      64\n",
       "2766          Europe      LOC      63\n",
       "2295         Company      ORG      50\n",
       "2944          French     NORP      44\n",
       "2643           Dutch     NORP      42\n",
       "4430           Nabob   PERSON      40\n",
       "5559           Ships      ORG      31\n",
       "6492           first  ORDINAL      30\n",
       "5308  Rupee One Sell      ORG      26"
      ]
     },
     "execution_count": 18,
     "metadata": {},
     "output_type": "execute_result"
    }
   ],
   "source": [
    "# let us look at the top mentions that are not a cardinal number\n",
    "df_sorted[df_sorted[\"type\"]!=\"CARDINAL\"].head(10)"
   ]
  },
  {
   "cell_type": "code",
   "execution_count": 27,
   "id": "107e6fd4",
   "metadata": {},
   "outputs": [
    {
     "data": {
      "text/html": [
       "<div>\n",
       "<style scoped>\n",
       "    .dataframe tbody tr th:only-of-type {\n",
       "        vertical-align: middle;\n",
       "    }\n",
       "\n",
       "    .dataframe tbody tr th {\n",
       "        vertical-align: top;\n",
       "    }\n",
       "\n",
       "    .dataframe thead th {\n",
       "        text-align: right;\n",
       "    }\n",
       "</style>\n",
       "<table border=\"1\" class=\"dataframe\">\n",
       "  <thead>\n",
       "    <tr style=\"text-align: right;\">\n",
       "      <th></th>\n",
       "      <th>mention</th>\n",
       "      <th>type</th>\n",
       "      <th>counts</th>\n",
       "    </tr>\n",
       "  </thead>\n",
       "  <tbody>\n",
       "    <tr>\n",
       "      <th>2783</th>\n",
       "      <td>Execution</td>\n",
       "      <td>ORG</td>\n",
       "      <td>1</td>\n",
       "    </tr>\n",
       "    <tr>\n",
       "      <th>2782</th>\n",
       "      <td>Exculpate Capt</td>\n",
       "      <td>ORG</td>\n",
       "      <td>1</td>\n",
       "    </tr>\n",
       "    <tr>\n",
       "      <th>2781</th>\n",
       "      <td>Exclusive</td>\n",
       "      <td>PRODUCT</td>\n",
       "      <td>1</td>\n",
       "    </tr>\n",
       "    <tr>\n",
       "      <th>2780</th>\n",
       "      <td>Exclusive</td>\n",
       "      <td>GPE</td>\n",
       "      <td>1</td>\n",
       "    </tr>\n",
       "    <tr>\n",
       "      <th>2778</th>\n",
       "      <td>Exardars</td>\n",
       "      <td>LOC</td>\n",
       "      <td>1</td>\n",
       "    </tr>\n",
       "    <tr>\n",
       "      <th>2777</th>\n",
       "      <td>Evil &amp;</td>\n",
       "      <td>ORG</td>\n",
       "      <td>1</td>\n",
       "    </tr>\n",
       "    <tr>\n",
       "      <th>2776</th>\n",
       "      <td>Evidence</td>\n",
       "      <td>LOC</td>\n",
       "      <td>1</td>\n",
       "    </tr>\n",
       "    <tr>\n",
       "      <th>2775</th>\n",
       "      <td>Evert</td>\n",
       "      <td>PERSON</td>\n",
       "      <td>1</td>\n",
       "    </tr>\n",
       "    <tr>\n",
       "      <th>2774</th>\n",
       "      <td>Evans</td>\n",
       "      <td>PERSON</td>\n",
       "      <td>1</td>\n",
       "    </tr>\n",
       "    <tr>\n",
       "      <th>7640</th>\n",
       "      <td>£1 112</td>\n",
       "      <td>MONEY</td>\n",
       "      <td>1</td>\n",
       "    </tr>\n",
       "  </tbody>\n",
       "</table>\n",
       "</div>"
      ],
      "text/plain": [
       "             mention     type  counts\n",
       "2783       Execution      ORG       1\n",
       "2782  Exculpate Capt      ORG       1\n",
       "2781       Exclusive  PRODUCT       1\n",
       "2780       Exclusive      GPE       1\n",
       "2778        Exardars      LOC       1\n",
       "2777          Evil &      ORG       1\n",
       "2776        Evidence      LOC       1\n",
       "2775           Evert   PERSON       1\n",
       "2774           Evans   PERSON       1\n",
       "7640          £1 112    MONEY       1"
      ]
     },
     "execution_count": 27,
     "metadata": {},
     "output_type": "execute_result"
    }
   ],
   "source": [
    "# let us look at the bottom mentions (same among those with only 1 mention), that are not a cardinal number\n",
    "# we can see that there are many possible errors: these usually appear among low-frequency mentions\n",
    "df_sorted[df_sorted[\"type\"]!=\"CARDINAL\"].tail(10)"
   ]
  },
  {
   "cell_type": "markdown",
   "id": "7239a05a",
   "metadata": {},
   "source": [
    "Given the entities, we can for example look at their occurrencies to better understand why and how they are mentioned:"
   ]
  },
  {
   "cell_type": "code",
   "execution_count": 19,
   "id": "5ba08dfb",
   "metadata": {},
   "outputs": [],
   "source": [
    "import re # for regular expressions\n",
    "\n",
    "target_entity = \"Nabob\" # what to look for\n",
    "span = 50 # span of interest in number of characters\n",
    "occurrences = list()\n",
    "\n",
    "for p in pages[:20]:\n",
    "    # these are the places in the page where the target entity is mentioned\n",
    "    hits = [m.start() for m in re.finditer(target_entity, p)]\n",
    "    for h in hits:\n",
    "        l_span = h - span\n",
    "        r_span = h + span\n",
    "        if l_span < 0:\n",
    "            l_span = 0\n",
    "        if r_span >= len(p):\n",
    "            r_span = len(p)-1\n",
    "        occurrences.append(p[l_span:r_span])"
   ]
  },
  {
   "cell_type": "code",
   "execution_count": 20,
   "id": "fc0a7f78",
   "metadata": {},
   "outputs": [
    {
     "data": {
      "text/plain": [
       "['lone been in Question, but as the Treaty with the Nabob Your Influen at the Durbar by the late Revol',\n",
       " ' The Seas Sellers s of sur us in haven ire. 5 The Nabob returned to his Capitol Yesterday and upon l',\n",
       " 't of get the whole of the Treaty with the present Nabob punctually performed in case your Honours se']"
      ]
     },
     "execution_count": 20,
     "metadata": {},
     "output_type": "execute_result"
    }
   ],
   "source": [
    "occurrences"
   ]
  },
  {
   "cell_type": "markdown",
   "id": "b6c46e70",
   "metadata": {},
   "source": [
    "This is quite interesting: \"nabob\" was a title used for Mugal officials or governors. It is in this sense that the title appears to be used in these records. The term later came to be associated with individuals who got very wealthy in India.\n",
    "\n",
    "Let us now look at the distribution of detected entity types in the whole collection:"
   ]
  },
  {
   "cell_type": "code",
   "execution_count": 21,
   "id": "ca2a2659",
   "metadata": {},
   "outputs": [],
   "source": [
    "# we import a couple of useful visualisation libraries\n",
    "import matplotlib.pyplot as plt\n",
    "import seaborn as sns\n",
    "sns.set_style(\"ticks\")"
   ]
  },
  {
   "cell_type": "code",
   "execution_count": 22,
   "id": "c6d90752",
   "metadata": {},
   "outputs": [],
   "source": [
    "# let us count how many times each type occurs\n",
    "df_sorted_types = df_sorted[[\"type\",\"counts\"]].groupby([\"type\"]).agg(sum).reset_index().sort_values('counts', ascending=False)"
   ]
  },
  {
   "cell_type": "code",
   "execution_count": 23,
   "id": "5be1f61b",
   "metadata": {},
   "outputs": [
    {
     "data": {
      "text/html": [
       "<div>\n",
       "<style scoped>\n",
       "    .dataframe tbody tr th:only-of-type {\n",
       "        vertical-align: middle;\n",
       "    }\n",
       "\n",
       "    .dataframe tbody tr th {\n",
       "        vertical-align: top;\n",
       "    }\n",
       "\n",
       "    .dataframe thead th {\n",
       "        text-align: right;\n",
       "    }\n",
       "</style>\n",
       "<table border=\"1\" class=\"dataframe\">\n",
       "  <thead>\n",
       "    <tr style=\"text-align: right;\">\n",
       "      <th></th>\n",
       "      <th>type</th>\n",
       "      <th>counts</th>\n",
       "    </tr>\n",
       "  </thead>\n",
       "  <tbody>\n",
       "    <tr>\n",
       "      <th>0</th>\n",
       "      <td>CARDINAL</td>\n",
       "      <td>3716</td>\n",
       "    </tr>\n",
       "    <tr>\n",
       "      <th>11</th>\n",
       "      <td>ORG</td>\n",
       "      <td>3106</td>\n",
       "    </tr>\n",
       "    <tr>\n",
       "      <th>13</th>\n",
       "      <td>PERSON</td>\n",
       "      <td>2912</td>\n",
       "    </tr>\n",
       "    <tr>\n",
       "      <th>1</th>\n",
       "      <td>DATE</td>\n",
       "      <td>980</td>\n",
       "    </tr>\n",
       "    <tr>\n",
       "      <th>4</th>\n",
       "      <td>GPE</td>\n",
       "      <td>638</td>\n",
       "    </tr>\n",
       "    <tr>\n",
       "      <th>9</th>\n",
       "      <td>NORP</td>\n",
       "      <td>309</td>\n",
       "    </tr>\n",
       "    <tr>\n",
       "      <th>7</th>\n",
       "      <td>LOC</td>\n",
       "      <td>242</td>\n",
       "    </tr>\n",
       "    <tr>\n",
       "      <th>17</th>\n",
       "      <td>WORK_OF_ART</td>\n",
       "      <td>232</td>\n",
       "    </tr>\n",
       "    <tr>\n",
       "      <th>14</th>\n",
       "      <td>PRODUCT</td>\n",
       "      <td>213</td>\n",
       "    </tr>\n",
       "    <tr>\n",
       "      <th>3</th>\n",
       "      <td>FAC</td>\n",
       "      <td>181</td>\n",
       "    </tr>\n",
       "    <tr>\n",
       "      <th>10</th>\n",
       "      <td>ORDINAL</td>\n",
       "      <td>122</td>\n",
       "    </tr>\n",
       "    <tr>\n",
       "      <th>8</th>\n",
       "      <td>MONEY</td>\n",
       "      <td>93</td>\n",
       "    </tr>\n",
       "    <tr>\n",
       "      <th>6</th>\n",
       "      <td>LAW</td>\n",
       "      <td>51</td>\n",
       "    </tr>\n",
       "    <tr>\n",
       "      <th>15</th>\n",
       "      <td>QUANTITY</td>\n",
       "      <td>42</td>\n",
       "    </tr>\n",
       "    <tr>\n",
       "      <th>2</th>\n",
       "      <td>EVENT</td>\n",
       "      <td>41</td>\n",
       "    </tr>\n",
       "    <tr>\n",
       "      <th>16</th>\n",
       "      <td>TIME</td>\n",
       "      <td>25</td>\n",
       "    </tr>\n",
       "    <tr>\n",
       "      <th>5</th>\n",
       "      <td>LANGUAGE</td>\n",
       "      <td>22</td>\n",
       "    </tr>\n",
       "    <tr>\n",
       "      <th>12</th>\n",
       "      <td>PERCENT</td>\n",
       "      <td>8</td>\n",
       "    </tr>\n",
       "  </tbody>\n",
       "</table>\n",
       "</div>"
      ],
      "text/plain": [
       "           type  counts\n",
       "0      CARDINAL    3716\n",
       "11          ORG    3106\n",
       "13       PERSON    2912\n",
       "1          DATE     980\n",
       "4           GPE     638\n",
       "9          NORP     309\n",
       "7           LOC     242\n",
       "17  WORK_OF_ART     232\n",
       "14      PRODUCT     213\n",
       "3           FAC     181\n",
       "10      ORDINAL     122\n",
       "8         MONEY      93\n",
       "6           LAW      51\n",
       "15     QUANTITY      42\n",
       "2         EVENT      41\n",
       "16         TIME      25\n",
       "5      LANGUAGE      22\n",
       "12      PERCENT       8"
      ]
     },
     "execution_count": 23,
     "metadata": {},
     "output_type": "execute_result"
    }
   ],
   "source": [
    "df_sorted_types"
   ]
  },
  {
   "cell_type": "code",
   "execution_count": 24,
   "id": "67003faf",
   "metadata": {},
   "outputs": [
    {
     "data": {
      "image/png": "[encoded data removed]",
      "text/plain": [
       "<Figure size 640x480 with 1 Axes>"
      ]
     },
     "metadata": {},
     "output_type": "display_data"
    }
   ],
   "source": [
    "# we then plot this result using a bar plot\n",
    "sns.barplot(df_sorted_types, x=\"type\", y=\"counts\")\n",
    "plt.xticks(rotation=60)\n",
    "plt.tight_layout()\n",
    "plt.savefig(\"resources/type_plot.pdf\")"
   ]
  },
  {
   "cell_type": "markdown",
   "id": "d5574148",
   "metadata": {},
   "source": [
    "Interestingly, we see many occurrences of numbers, organisations and persons. Why? This, we leave to you to find out.\n",
    "\n",
    "Another good exercise is to replicate these results using other provided documents and make a comparison. Do they often mention the same entities? Is the overall distribution the same, or different? Can you suggest why?"
   ]
  },
  {
   "cell_type": "markdown",
   "id": "081c003b",
   "metadata": {},
   "source": [
    "---"
   ]
  },
  {
   "cell_type": "markdown",
   "id": "d879c9b7",
   "metadata": {},
   "source": [
    "## What is next\n",
    "\n",
    "What we have seen here is the tip of the iceberg. The most promising next steps would include:\n",
    "- The creation of an annotated dataset in order to evaluate AER models, and train new ones.\n",
    "- Using more powerful methods, which will likely yield better results.\n",
    "\n",
    "The evaluation of results is particularly important. Do we detect all entities correctly or not? Usually, this is done by manually annotating some documents and using them as *ground truth*. It is important to conduct a robust evaluation before using the entities for analysis or for developing new applications.\n",
    "\n",
    "Finally, can you think of how we might use these newly detected entities for information retrieval or research?"
   ]
  },
  {
   "cell_type": "markdown",
   "id": "157b2de5",
   "metadata": {},
   "source": [
    "---"
   ]
  }
 ],
 "metadata": {
  "kernelspec": {
   "display_name": "Python 3 (ipykernel)",
   "language": "python",
   "name": "python3"
  },
  "language_info": {
   "codemirror_mode": {
    "name": "ipython",
    "version": 3
   },
   "file_extension": ".py",
   "mimetype": "text/x-python",
   "name": "python",
   "nbconvert_exporter": "python",
   "pygments_lexer": "ipython3",
   "version": "3.10.11"
  }
 },
 "nbformat": 4,
 "nbformat_minor": 5
}
