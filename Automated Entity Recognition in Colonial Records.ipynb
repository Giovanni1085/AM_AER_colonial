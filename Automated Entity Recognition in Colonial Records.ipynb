{
 "cells": [
  {
   "cell_type": "markdown",
   "id": "8aeccf27",
   "metadata": {},
   "source": [
    "# Automated Entity Recognition in Colonial Records\n",
    "\n",
    "In this notebook, we will do take the following steps:\n",
    "1. Read the data into memory and prepare it for processing\n",
    "2. Setup and apply and Automated Entity Recognition pipeline\n",
    "3. Assess its results"
   ]
  },
  {
   "cell_type": "markdown",
   "id": "d6a1dc9a",
   "metadata": {},
   "source": [
    "## Read and prepare the data"
   ]
  },
  {
   "cell_type": "code",
   "execution_count": 8,
   "id": "4dcd4b7b",
   "metadata": {},
   "outputs": [],
   "source": [
    "# basic imports and variables\n",
    "import os\n",
    "\n",
    "data_folder = \"data/\"\n",
    "file_1 = \"BL_IOR_E_4_24.txt\" # Letters received from Bengal, Jun 1758 - Mar 1760\n",
    "file_2 = \"BL_IOR_B_53.txt\" # Court Minutes, 8 Apr 1714 - 5 Apr 1716"
   ]
  },
  {
   "cell_type": "code",
   "execution_count": 63,
   "id": "28f5373a",
   "metadata": {},
   "outputs": [],
   "source": [
    "# read raw data into memory\n",
    "work_with = file_2 # or file_2\n",
    "\n",
    "f = open(os.path.join(data_folder,work_with)).read() # f is a string"
   ]
  },
  {
   "cell_type": "code",
   "execution_count": 64,
   "id": "2ee7f114",
   "metadata": {},
   "outputs": [
    {
     "data": {
      "text/plain": [
       "['BL_IOR_B_53_0001',\n",
       " 'No transcript for this item',\n",
       " '',\n",
       " 'BL_IOR_B_53_0002',\n",
       " 'No transcript for this item',\n",
       " '',\n",
       " 'BL_IOR_B_53_0003',\n",
       " 'No transcript for this item',\n",
       " '',\n",
       " 'BL_IOR_B_53_0004',\n",
       " '102. 3/53',\n",
       " '',\n",
       " '',\n",
       " 'BL_IOR_B_53_0005',\n",
       " 'Page.',\n",
       " 'Appearances of Directors standing Order read',\n",
       " 'I ward concerning y Owners of the Mead Frigot publishe',\n",
       " '6',\n",
       " 'Algebra Suit Committee named for it',\n",
       " 'Algebra Suit Old Committee to assist the New.']"
      ]
     },
     "execution_count": 64,
     "metadata": {},
     "output_type": "execute_result"
    }
   ],
   "source": [
    "lines = f.splitlines() # we split the text into lines and print out the first few\n",
    "lines[:20]"
   ]
  },
  {
   "cell_type": "markdown",
   "id": "37074c0d",
   "metadata": {},
   "source": [
    "We now have a list of strings containing the whole document, line by line. \n",
    "At a closer look, we note that every page is separated by the file identifier and an incremental number. We would like to use this information to create a list of pages, and remove all empty lines."
   ]
  },
  {
   "cell_type": "code",
   "execution_count": 65,
   "id": "67db9644",
   "metadata": {},
   "outputs": [],
   "source": [
    "file_identifier = work_with.replace(\".txt\",\"\")\n",
    "pages = list()\n",
    "new_page = \"\"\n",
    "\n",
    "for n,line in enumerate(lines[1:]): # note how we start from the second line to include the first page\n",
    "    if line.startswith(file_identifier):\n",
    "        # append previous page to the list of pages\n",
    "        pages.append(new_page.strip())\n",
    "        # create a new empty page\n",
    "        new_page = \"\"\n",
    "    elif len(line) == 0 or line.startswith(\"No transcript for this item\"): # skip empty lines or pages\n",
    "        continue\n",
    "    else:\n",
    "        # append the line to the current page\n",
    "        new_page += \" \"+line"
   ]
  },
  {
   "cell_type": "code",
   "execution_count": 66,
   "id": "592ac70a",
   "metadata": {},
   "outputs": [
    {
     "data": {
      "text/plain": [
       "686"
      ]
     },
     "execution_count": 66,
     "metadata": {},
     "output_type": "execute_result"
    }
   ],
   "source": [
    "len(pages)"
   ]
  },
  {
   "cell_type": "code",
   "execution_count": 67,
   "id": "eaad2ce7",
   "metadata": {},
   "outputs": [
    {
     "data": {
      "text/plain": [
       "'Page- 430 Frauds discovered by Commissioners Customs 430 Frauds in Private Trade Warehouse referd- 432 Frauds proposed to be discovered by an unknown Ce Fort St. George Generall read 437 440 Francklin Richard Petition referd. 443 Factors or Writers if wanting to be sent 444. Fowler George Petition referd- 440 Fullagar John Petition. 440 Factors Petitions no more to be received till le 449 Fund at the Exchequer Receipts by whom to belie Francet Thomas letter be referd. 451 19.3 Ditto. 2 454 Forfeitures of The Directors not allowed the Hospitall Fractors Red to contribute to the Hospitall- 4. Free Merchants to contribute to the Hospitall 4 5 Ferrey Anne Petition referd. 466 Forter Samuell Goods deliverd paying be Farmer Richard Tea delivered paying ec 76 Foster Nathaniel Claim on his Pages referd Fenwick M. Edward elected Chief Supra cargo offe 170 Frankland St. Thomas for the Intereston R. Staines Ace: 109 3 404 Fenwick Edward goods to be delivered paying Ce 406 Fenwick E. to have 1: 15: C as Suppacargo Marlbor 407 Fractors Lee number to be sent 490 Franklin Richard Report respited 495 Factors Petitions referd Factors and Writers Petitions refeld 495 194 Fleetwood Charles Petition referd. 494 Farakerley Samuel Petition referd Fractors when to be chosen 54 Field Mary of Money to be advanced her 514. Fonseca Braddyll desires to export Brillion for Diamonds 544 Franco Abraham De Moses ke: desires refere 514 Fenwick Edward Cert Petition refered 414 Francis Thomas Her Eagles Mer Case referd 510) Fenwick Edward 1595: 4:7 in full- 521 Factors Election adjourned- 526 Fenrick Edward Security approved 597 Fleetwood Charles elected Writer Fullager John elected Writer 520 Fazaherly Samuel elected Writer Field Timothy 114 : 11: 0: for goods sold. 429 Farmer Richard Petition referd -- 436 Fullagar John Security approved 530 Fleetwood Charles Security approved 530 Fleetwood Charles, elected Writers for the port 539 Tuttagar John.3 540 Frazakerly Samuel elected Writer for the Bay - 54 Farakerly William Security approved Farmer Richard elected Deputy Governour of Bencoolen 141 Fenwick Mr. Edward to carry a servant Edward James Fort St. George Generall Letter approved Tiarmer Mads\" leave to go to the Port Fenwick Mr. C. Suptacaraces Marlborough furtherle. Fectwood Charles to go on the Marlborough 348 Fenwick Mr. Lee hardships represented Pullagar John Termission - Farmer Mr. Richard Security approved. Fort St George Generall partly approved 4 22 Ditto to be further considered 44. at Fisher Elizabeth to go to Bengall 450. p 1 Fenwick M. Cr Letter read - in Ssen Fort Generall part approved 2 Fenwick Mr Lee Letters read Freild Samuel Setition referd. ( Fraweet Mr. Clause of the charge against Mr Hastings de 7 He 1 Farmer Richard goods to be delivered paying he Ser Fenwick Mr. C. Letter read. Factors Writes at Bombay want referd Frances Henry to return to Sir Helena Farmer Mr 70th for fresh Provisions. Frost Let relating to 4 Accompts by whom to be signed de Freeman John good to be delivered paying ke: 500 Fitzhugh Captain William Letter read 5012 Feild Samuel 100: part of Richard Smith\\'s Estate 504 Jane Dame Elizabeth Stock to be transferd- 507 Free Thomas Letter referd. 504 Field Samuel Deed & payment of 100: 590 Turnese St. Robert stock to be transferd. 600 601 Fog Jonathan Act desires referd. Fredericks Bonds cancelled 602 602 Farmer Mr. Richard sworn de Form of the Oath for Madagascar Licence approved 602 603 Fort Letter Clauses approved Fryer St. John Licence of Trade for the Hamilton Galley 007 i 2 3 2t'"
      ]
     },
     "execution_count": 67,
     "metadata": {},
     "output_type": "execute_result"
    }
   ],
   "source": [
    "# example of a single page\n",
    "pages[22]"
   ]
  },
  {
   "cell_type": "markdown",
   "id": "526d892a",
   "metadata": {},
   "source": [
    "We have now turned our raw dataset into a list of pages, each containing its automatically recognised text. \n",
    "\n",
    "You may want to take a moment to inspect several pages and compare them with the document images. You will notice that, despite a good overall quality, automatic text recognition is never without errors: these will also have an impact when doing entity recognition.\n",
    "\n",
    "We now turn or attention to the entity recognition pipeline."
   ]
  },
  {
   "cell_type": "markdown",
   "id": "50c652b7",
   "metadata": {},
   "source": [
    "---"
   ]
  },
  {
   "cell_type": "markdown",
   "id": "ea859093",
   "metadata": {},
   "source": [
    "## Automated Entity Recognition\n",
    "\n",
    "Automatic Entity Recognition, often also called *Named Entity Recognition* or just *Entity Recognition*, is a popular step in Natural Language Processing (NLP) pipelines. Its goal is to find mentions of entities of interest, and their type. The most popular entity types are person, place and organisation. An NLP pipeline is usually comprised of several sequential steps, as illustrated here:  \n",
    "\n",
    "<img src=\"resources/spacy_ner_pipeline.png\" alt=\"spacy ner pipeline\" />\n",
    "\n",
    "From an input text, for example in page of our documents, an NLP pipeline has to deal with tokenisation (splitting a text into constituent parts, for example words), lemmatising (transforming a word into its base lemma), tagging (detecting the part of speech of a word), parsing (detecting the syntactic structure of a sentence), and more. Entity recognition therefore is but one step into an NLP pipeline.\n",
    "\n",
    "In what follows, we will rely on the spaCy library, a popular natural language toolkit in Python. For more details of the model we will use, see https://spacy.io/models/en. Firstly, we will load the library and trained model, we will then see an example and apply a basic AER pipeline to our documents."
   ]
  },
  {
   "cell_type": "code",
   "execution_count": 68,
   "id": "27dcf2b4",
   "metadata": {},
   "outputs": [],
   "source": [
    "#!python -m spacy download en_core_web_sm # execute this only once. en_core_web_sm is a small model trained for English"
   ]
  },
  {
   "cell_type": "code",
   "execution_count": 69,
   "id": "550fe4a0",
   "metadata": {
    "scrolled": false
   },
   "outputs": [
    {
     "name": "stdout",
     "output_type": "stream",
     "text": [
      "[('The New York Times', 'ORG'), ('New York', 'GPE')]\n",
      "[('Mars', 'LOC'), ('2035', 'DATE')]\n"
     ]
    }
   ],
   "source": [
    "import spacy\n",
    "\n",
    "texts = [\n",
    "    \"The New York Times is a newspaper based in New York.\",\n",
    "    \"We will be able to go to Mars by 2035. Will you go?\",\n",
    "]\n",
    "\n",
    "nlp = spacy.load(\"en_core_web_sm\")\n",
    "for doc in nlp.pipe(texts, disable=[\"tok2vec\", \"tagger\", \"parser\", \"attribute_ruler\", \"lemmatizer\"], n_process=-1):\n",
    "    print([(ent.text, ent.label_) for ent in doc.ents])"
   ]
  },
  {
   "cell_type": "code",
   "execution_count": 70,
   "id": "b03c8941",
   "metadata": {},
   "outputs": [],
   "source": [
    "# apply on our data, this might take a while\n",
    "\n",
    "entities = list()\n",
    "for doc in nlp.pipe(pages, disable=[\"tok2vec\", \"tagger\", \"parser\", \"attribute_ruler\", \"lemmatizer\"], n_process=-1):\n",
    "    entities.extend([(ent.text, ent.label_) for ent in doc.ents])"
   ]
  },
  {
   "cell_type": "code",
   "execution_count": 71,
   "id": "86f98006",
   "metadata": {},
   "outputs": [
    {
     "data": {
      "text/plain": [
       "49921"
      ]
     },
     "execution_count": 71,
     "metadata": {},
     "output_type": "execute_result"
    }
   ],
   "source": [
    "len(entities) # we have found many entity mentions! "
   ]
  },
  {
   "cell_type": "code",
   "execution_count": 72,
   "id": "80578dfc",
   "metadata": {},
   "outputs": [
    {
     "name": "stdout",
     "output_type": "stream",
     "text": [
      "[('102', 'CARDINAL'), ('3/53', 'CARDINAL'), ('Order', 'ORG'), ('Algebra Suit Old Committee', 'ORG'), ('Albans', 'NORP'), ('10', 'CARDINAL'), ('500', 'CARDINAL'), ('12', 'CARDINAL'), ('Committee', 'ORG'), ('13', 'CARDINAL')]\n"
     ]
    }
   ],
   "source": [
    "print(entities[:10])"
   ]
  },
  {
   "cell_type": "code",
   "execution_count": 73,
   "id": "8ab8135c",
   "metadata": {},
   "outputs": [
    {
     "data": {
      "text/plain": [
       "'Nationalities or religious or political groups'"
      ]
     },
     "execution_count": 73,
     "metadata": {},
     "output_type": "execute_result"
    }
   ],
   "source": [
    "# you can use this command to get an explanation of types\n",
    "spacy.explain(\"NORP\")"
   ]
  },
  {
   "cell_type": "markdown",
   "id": "9116f5e2",
   "metadata": {},
   "source": [
    "Note that we use a trained model which works with a fixed set of types. An important question when dealing with AER is **which typology to use** (i.e., set of types). Often, historical records require bespoke typologies to capture their rich contents."
   ]
  },
  {
   "cell_type": "markdown",
   "id": "c7adf9cf",
   "metadata": {},
   "source": [
    "---"
   ]
  },
  {
   "cell_type": "markdown",
   "id": "cd2cc2e7",
   "metadata": {},
   "source": [
    "## Results\n",
    "\n",
    "Let us now take a look at the results we got. Firstly, we will create a *data frame* to more easily manipulate the data. Secondly, we will check which are the most frequent mentions. Lastly, we will create a visualisation to see the distribution of mentions by entity. We will conclude by discussing the limitations of these results, and how to proceed to evaluate their quality more rigorously."
   ]
  },
  {
   "cell_type": "code",
   "execution_count": 74,
   "id": "e208b831",
   "metadata": {},
   "outputs": [],
   "source": [
    "# create a data frame\n",
    "import pandas as pd\n",
    "\n",
    "df = pd.DataFrame(entities, columns=[\"mention\",\"type\"])"
   ]
  },
  {
   "cell_type": "code",
   "execution_count": 75,
   "id": "77cfd0e4",
   "metadata": {},
   "outputs": [
    {
     "data": {
      "text/html": [
       "<div>\n",
       "<style scoped>\n",
       "    .dataframe tbody tr th:only-of-type {\n",
       "        vertical-align: middle;\n",
       "    }\n",
       "\n",
       "    .dataframe tbody tr th {\n",
       "        vertical-align: top;\n",
       "    }\n",
       "\n",
       "    .dataframe thead th {\n",
       "        text-align: right;\n",
       "    }\n",
       "</style>\n",
       "<table border=\"1\" class=\"dataframe\">\n",
       "  <thead>\n",
       "    <tr style=\"text-align: right;\">\n",
       "      <th></th>\n",
       "      <th>mention</th>\n",
       "      <th>type</th>\n",
       "    </tr>\n",
       "  </thead>\n",
       "  <tbody>\n",
       "    <tr>\n",
       "      <th>0</th>\n",
       "      <td>102</td>\n",
       "      <td>CARDINAL</td>\n",
       "    </tr>\n",
       "    <tr>\n",
       "      <th>1</th>\n",
       "      <td>3/53</td>\n",
       "      <td>CARDINAL</td>\n",
       "    </tr>\n",
       "    <tr>\n",
       "      <th>2</th>\n",
       "      <td>Order</td>\n",
       "      <td>ORG</td>\n",
       "    </tr>\n",
       "    <tr>\n",
       "      <th>3</th>\n",
       "      <td>Algebra Suit Old Committee</td>\n",
       "      <td>ORG</td>\n",
       "    </tr>\n",
       "    <tr>\n",
       "      <th>4</th>\n",
       "      <td>Albans</td>\n",
       "      <td>NORP</td>\n",
       "    </tr>\n",
       "  </tbody>\n",
       "</table>\n",
       "</div>"
      ],
      "text/plain": [
       "                      mention      type\n",
       "0                         102  CARDINAL\n",
       "1                        3/53  CARDINAL\n",
       "2                       Order       ORG\n",
       "3  Algebra Suit Old Committee       ORG\n",
       "4                      Albans      NORP"
      ]
     },
     "execution_count": 75,
     "metadata": {},
     "output_type": "execute_result"
    }
   ],
   "source": [
    "df.head()"
   ]
  },
  {
   "cell_type": "code",
   "execution_count": 76,
   "id": "acd98256",
   "metadata": {},
   "outputs": [],
   "source": [
    "df_sorted = df.groupby([\"mention\",\"type\"]).size().reset_index(name='counts').sort_values('counts', ascending=False)"
   ]
  },
  {
   "cell_type": "code",
   "execution_count": 77,
   "id": "f5fad3fc",
   "metadata": {},
   "outputs": [
    {
     "data": {
      "text/html": [
       "<div>\n",
       "<style scoped>\n",
       "    .dataframe tbody tr th:only-of-type {\n",
       "        vertical-align: middle;\n",
       "    }\n",
       "\n",
       "    .dataframe tbody tr th {\n",
       "        vertical-align: top;\n",
       "    }\n",
       "\n",
       "    .dataframe thead th {\n",
       "        text-align: right;\n",
       "    }\n",
       "</style>\n",
       "<table border=\"1\" class=\"dataframe\">\n",
       "  <thead>\n",
       "    <tr style=\"text-align: right;\">\n",
       "      <th></th>\n",
       "      <th>mention</th>\n",
       "      <th>type</th>\n",
       "      <th>counts</th>\n",
       "    </tr>\n",
       "  </thead>\n",
       "  <tbody>\n",
       "    <tr>\n",
       "      <th>13</th>\n",
       "      <td>0</td>\n",
       "      <td>CARDINAL</td>\n",
       "      <td>2138</td>\n",
       "    </tr>\n",
       "    <tr>\n",
       "      <th>4291</th>\n",
       "      <td>Court</td>\n",
       "      <td>ORG</td>\n",
       "      <td>1064</td>\n",
       "    </tr>\n",
       "    <tr>\n",
       "      <th>77</th>\n",
       "      <td>1</td>\n",
       "      <td>CARDINAL</td>\n",
       "      <td>413</td>\n",
       "    </tr>\n",
       "    <tr>\n",
       "      <th>132</th>\n",
       "      <td>10</td>\n",
       "      <td>CARDINAL</td>\n",
       "      <td>400</td>\n",
       "    </tr>\n",
       "    <tr>\n",
       "      <th>592</th>\n",
       "      <td>2</td>\n",
       "      <td>CARDINAL</td>\n",
       "      <td>310</td>\n",
       "    </tr>\n",
       "    <tr>\n",
       "      <th>1726</th>\n",
       "      <td>6</td>\n",
       "      <td>CARDINAL</td>\n",
       "      <td>293</td>\n",
       "    </tr>\n",
       "    <tr>\n",
       "      <th>15244</th>\n",
       "      <td>Treasury</td>\n",
       "      <td>ORG</td>\n",
       "      <td>277</td>\n",
       "    </tr>\n",
       "    <tr>\n",
       "      <th>1242</th>\n",
       "      <td>4</td>\n",
       "      <td>CARDINAL</td>\n",
       "      <td>264</td>\n",
       "    </tr>\n",
       "    <tr>\n",
       "      <th>3134</th>\n",
       "      <td>Bombay</td>\n",
       "      <td>GPE</td>\n",
       "      <td>259</td>\n",
       "    </tr>\n",
       "    <tr>\n",
       "      <th>18514</th>\n",
       "      <td>two</td>\n",
       "      <td>CARDINAL</td>\n",
       "      <td>252</td>\n",
       "    </tr>\n",
       "  </tbody>\n",
       "</table>\n",
       "</div>"
      ],
      "text/plain": [
       "        mention      type  counts\n",
       "13            0  CARDINAL    2138\n",
       "4291      Court       ORG    1064\n",
       "77            1  CARDINAL     413\n",
       "132          10  CARDINAL     400\n",
       "592           2  CARDINAL     310\n",
       "1726          6  CARDINAL     293\n",
       "15244  Treasury       ORG     277\n",
       "1242          4  CARDINAL     264\n",
       "3134     Bombay       GPE     259\n",
       "18514       two  CARDINAL     252"
      ]
     },
     "execution_count": 77,
     "metadata": {},
     "output_type": "execute_result"
    }
   ],
   "source": [
    "df_sorted.head(10)"
   ]
  },
  {
   "cell_type": "code",
   "execution_count": 78,
   "id": "164b4e82",
   "metadata": {},
   "outputs": [
    {
     "data": {
      "text/html": [
       "<div>\n",
       "<style scoped>\n",
       "    .dataframe tbody tr th:only-of-type {\n",
       "        vertical-align: middle;\n",
       "    }\n",
       "\n",
       "    .dataframe tbody tr th {\n",
       "        vertical-align: top;\n",
       "    }\n",
       "\n",
       "    .dataframe thead th {\n",
       "        text-align: right;\n",
       "    }\n",
       "</style>\n",
       "<table border=\"1\" class=\"dataframe\">\n",
       "  <thead>\n",
       "    <tr style=\"text-align: right;\">\n",
       "      <th></th>\n",
       "      <th>mention</th>\n",
       "      <th>type</th>\n",
       "      <th>counts</th>\n",
       "    </tr>\n",
       "  </thead>\n",
       "  <tbody>\n",
       "    <tr>\n",
       "      <th>4291</th>\n",
       "      <td>Court</td>\n",
       "      <td>ORG</td>\n",
       "      <td>1064</td>\n",
       "    </tr>\n",
       "    <tr>\n",
       "      <th>15244</th>\n",
       "      <td>Treasury</td>\n",
       "      <td>ORG</td>\n",
       "      <td>277</td>\n",
       "    </tr>\n",
       "    <tr>\n",
       "      <th>3134</th>\n",
       "      <td>Bombay</td>\n",
       "      <td>GPE</td>\n",
       "      <td>259</td>\n",
       "    </tr>\n",
       "    <tr>\n",
       "      <th>12698</th>\n",
       "      <td>Ships</td>\n",
       "      <td>ORG</td>\n",
       "      <td>187</td>\n",
       "    </tr>\n",
       "    <tr>\n",
       "      <th>7433</th>\n",
       "      <td>John Browne</td>\n",
       "      <td>PERSON</td>\n",
       "      <td>169</td>\n",
       "    </tr>\n",
       "    <tr>\n",
       "      <th>11885</th>\n",
       "      <td>Robert Brisco</td>\n",
       "      <td>PERSON</td>\n",
       "      <td>166</td>\n",
       "    </tr>\n",
       "    <tr>\n",
       "      <th>2147</th>\n",
       "      <td>Accompt</td>\n",
       "      <td>NORP</td>\n",
       "      <td>154</td>\n",
       "    </tr>\n",
       "    <tr>\n",
       "      <th>6167</th>\n",
       "      <td>Goods</td>\n",
       "      <td>LOC</td>\n",
       "      <td>130</td>\n",
       "    </tr>\n",
       "    <tr>\n",
       "      <th>8592</th>\n",
       "      <td>Letter</td>\n",
       "      <td>NORP</td>\n",
       "      <td>129</td>\n",
       "    </tr>\n",
       "    <tr>\n",
       "      <th>2988</th>\n",
       "      <td>Bill</td>\n",
       "      <td>PERSON</td>\n",
       "      <td>122</td>\n",
       "    </tr>\n",
       "  </tbody>\n",
       "</table>\n",
       "</div>"
      ],
      "text/plain": [
       "             mention    type  counts\n",
       "4291           Court     ORG    1064\n",
       "15244       Treasury     ORG     277\n",
       "3134          Bombay     GPE     259\n",
       "12698          Ships     ORG     187\n",
       "7433     John Browne  PERSON     169\n",
       "11885  Robert Brisco  PERSON     166\n",
       "2147         Accompt    NORP     154\n",
       "6167           Goods     LOC     130\n",
       "8592          Letter    NORP     129\n",
       "2988            Bill  PERSON     122"
      ]
     },
     "execution_count": 78,
     "metadata": {},
     "output_type": "execute_result"
    }
   ],
   "source": [
    "df_sorted[df_sorted[\"type\"]!=\"CARDINAL\"].head(10)"
   ]
  },
  {
   "cell_type": "code",
   "execution_count": 79,
   "id": "ca2a2659",
   "metadata": {},
   "outputs": [],
   "source": [
    "import matplotlib.pyplot as plt\n",
    "import seaborn as sns\n",
    "sns.set_style(\"ticks\")"
   ]
  },
  {
   "cell_type": "code",
   "execution_count": 80,
   "id": "c6d90752",
   "metadata": {},
   "outputs": [],
   "source": [
    "df_sorted_types = df_sorted[[\"type\",\"counts\"]].groupby([\"type\"]).agg(sum).reset_index().sort_values('counts', ascending=False)"
   ]
  },
  {
   "cell_type": "code",
   "execution_count": 81,
   "id": "5be1f61b",
   "metadata": {},
   "outputs": [
    {
     "data": {
      "text/html": [
       "<div>\n",
       "<style scoped>\n",
       "    .dataframe tbody tr th:only-of-type {\n",
       "        vertical-align: middle;\n",
       "    }\n",
       "\n",
       "    .dataframe tbody tr th {\n",
       "        vertical-align: top;\n",
       "    }\n",
       "\n",
       "    .dataframe thead th {\n",
       "        text-align: right;\n",
       "    }\n",
       "</style>\n",
       "<table border=\"1\" class=\"dataframe\">\n",
       "  <thead>\n",
       "    <tr style=\"text-align: right;\">\n",
       "      <th></th>\n",
       "      <th>type</th>\n",
       "      <th>counts</th>\n",
       "    </tr>\n",
       "  </thead>\n",
       "  <tbody>\n",
       "    <tr>\n",
       "      <th>13</th>\n",
       "      <td>PERSON</td>\n",
       "      <td>16593</td>\n",
       "    </tr>\n",
       "    <tr>\n",
       "      <th>0</th>\n",
       "      <td>CARDINAL</td>\n",
       "      <td>13136</td>\n",
       "    </tr>\n",
       "    <tr>\n",
       "      <th>11</th>\n",
       "      <td>ORG</td>\n",
       "      <td>10603</td>\n",
       "    </tr>\n",
       "    <tr>\n",
       "      <th>1</th>\n",
       "      <td>DATE</td>\n",
       "      <td>2304</td>\n",
       "    </tr>\n",
       "    <tr>\n",
       "      <th>4</th>\n",
       "      <td>GPE</td>\n",
       "      <td>2074</td>\n",
       "    </tr>\n",
       "    <tr>\n",
       "      <th>9</th>\n",
       "      <td>NORP</td>\n",
       "      <td>869</td>\n",
       "    </tr>\n",
       "    <tr>\n",
       "      <th>17</th>\n",
       "      <td>WORK_OF_ART</td>\n",
       "      <td>824</td>\n",
       "    </tr>\n",
       "    <tr>\n",
       "      <th>8</th>\n",
       "      <td>MONEY</td>\n",
       "      <td>684</td>\n",
       "    </tr>\n",
       "    <tr>\n",
       "      <th>14</th>\n",
       "      <td>PRODUCT</td>\n",
       "      <td>569</td>\n",
       "    </tr>\n",
       "    <tr>\n",
       "      <th>7</th>\n",
       "      <td>LOC</td>\n",
       "      <td>542</td>\n",
       "    </tr>\n",
       "    <tr>\n",
       "      <th>3</th>\n",
       "      <td>FAC</td>\n",
       "      <td>539</td>\n",
       "    </tr>\n",
       "    <tr>\n",
       "      <th>10</th>\n",
       "      <td>ORDINAL</td>\n",
       "      <td>510</td>\n",
       "    </tr>\n",
       "    <tr>\n",
       "      <th>15</th>\n",
       "      <td>QUANTITY</td>\n",
       "      <td>239</td>\n",
       "    </tr>\n",
       "    <tr>\n",
       "      <th>6</th>\n",
       "      <td>LAW</td>\n",
       "      <td>178</td>\n",
       "    </tr>\n",
       "    <tr>\n",
       "      <th>16</th>\n",
       "      <td>TIME</td>\n",
       "      <td>127</td>\n",
       "    </tr>\n",
       "    <tr>\n",
       "      <th>2</th>\n",
       "      <td>EVENT</td>\n",
       "      <td>81</td>\n",
       "    </tr>\n",
       "    <tr>\n",
       "      <th>12</th>\n",
       "      <td>PERCENT</td>\n",
       "      <td>31</td>\n",
       "    </tr>\n",
       "    <tr>\n",
       "      <th>5</th>\n",
       "      <td>LANGUAGE</td>\n",
       "      <td>18</td>\n",
       "    </tr>\n",
       "  </tbody>\n",
       "</table>\n",
       "</div>"
      ],
      "text/plain": [
       "           type  counts\n",
       "13       PERSON   16593\n",
       "0      CARDINAL   13136\n",
       "11          ORG   10603\n",
       "1          DATE    2304\n",
       "4           GPE    2074\n",
       "9          NORP     869\n",
       "17  WORK_OF_ART     824\n",
       "8         MONEY     684\n",
       "14      PRODUCT     569\n",
       "7           LOC     542\n",
       "3           FAC     539\n",
       "10      ORDINAL     510\n",
       "15     QUANTITY     239\n",
       "6           LAW     178\n",
       "16         TIME     127\n",
       "2         EVENT      81\n",
       "12      PERCENT      31\n",
       "5      LANGUAGE      18"
      ]
     },
     "execution_count": 81,
     "metadata": {},
     "output_type": "execute_result"
    }
   ],
   "source": [
    "df_sorted_types"
   ]
  },
  {
   "cell_type": "code",
   "execution_count": 82,
   "id": "67003faf",
   "metadata": {},
   "outputs": [
    {
     "data": {
      "image/png": "[encoded data removed]",
      "text/plain": [
       "<Figure size 432x288 with 1 Axes>"
      ]
     },
     "metadata": {},
     "output_type": "display_data"
    }
   ],
   "source": [
    "sns.barplot(df_sorted_types, x=\"type\", y=\"counts\")\n",
    "#g.set_xticklabels(g.get_xticklabels(), rotation=45)\n",
    "plt.xticks(rotation=60)\n",
    "plt.tight_layout()"
   ]
  },
  {
   "cell_type": "markdown",
   "id": "d5574148",
   "metadata": {},
   "source": [
    "A good exercise is to replicate our results using the other documents we provide, and compare their results. Do they often mention the same entities? Is the overall distribution the same, or different? Can you suggest why?"
   ]
  },
  {
   "cell_type": "markdown",
   "id": "081c003b",
   "metadata": {},
   "source": [
    "---"
   ]
  },
  {
   "cell_type": "markdown",
   "id": "d879c9b7",
   "metadata": {},
   "source": [
    "## What is next\n",
    "\n",
    "What we have seen here is the tip of the iceberg. The most promising next steps would include:\n",
    "- the creation of an annotated dataset in order to evaluate AER models, and train new ones.\n",
    "- Using more powerful methods, which will likely yield better results.\n",
    "\n",
    "More importantly, can you think of how we might use newly detected entities for information retrieval or research?"
   ]
  },
  {
   "cell_type": "markdown",
   "id": "157b2de5",
   "metadata": {},
   "source": [
    "---"
   ]
  }
 ],
 "metadata": {
  "kernelspec": {
   "display_name": "Python 3 (ipykernel)",
   "language": "python",
   "name": "python3"
  },
  "language_info": {
   "codemirror_mode": {
    "name": "ipython",
    "version": 3
   },
   "file_extension": ".py",
   "mimetype": "text/x-python",
   "name": "python",
   "nbconvert_exporter": "python",
   "pygments_lexer": "ipython3",
   "version": "3.10.11"
  }
 },
 "nbformat": 4,
 "nbformat_minor": 5
}
